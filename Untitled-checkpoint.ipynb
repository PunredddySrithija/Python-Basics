{
 "cells": [
  {
   "cell_type": "code",
   "execution_count": 9,
   "id": "3b7a9ac8-55ab-4b02-aef7-e287314acbb8",
   "metadata": {},
   "outputs": [
    {
     "name": "stdout",
     "output_type": "stream",
     "text": [
      "311\n",
      "217\n",
      "12408\n",
      "5.617021276595745\n",
      "29\n",
      "5\n"
     ]
    }
   ],
   "source": [
    "#arthemetic operators\n",
    "a=264\n",
    "b=47\n",
    "\n",
    "#addition\n",
    "c=a+b\n",
    "print(c)\n",
    "\n",
    "#subtraction\n",
    "d=a-b\n",
    "print(d)\n",
    "\n",
    "#multiplication\n",
    "e=a*b\n",
    "print(e)\n",
    "\n",
    "#division\n",
    "f=a/b\n",
    "print(f)\n",
    "\n",
    "#modulus\n",
    "g=a%b\n",
    "print(g)\n",
    "\n",
    "#floor division\n",
    "h=a//b\n",
    "print(h)"
   ]
  },
  {
   "cell_type": "code",
   "execution_count": 5,
   "id": "7e4b7714-c179-4c4f-8e88-1985c48c7f2c",
   "metadata": {},
   "outputs": [
    {
     "name": "stdout",
     "output_type": "stream",
     "text": [
      "90\n",
      "69\n",
      "1449\n",
      "69.0\n",
      "6.0\n",
      "2.1936950640377856e+16\n"
     ]
    }
   ],
   "source": [
    "#assignment operators\n",
    "a=69\n",
    "b=21\n",
    "\n",
    "#addition assignment\n",
    "a+=b\n",
    "print(a)\n",
    "\n",
    "#subtraction assignment\n",
    "a-=b\n",
    "print(a)\n",
    "\n",
    "#multiplication assignment\n",
    "a*=b\n",
    "print(a)\n",
    "\n",
    "#division assignment\n",
    "a/=b\n",
    "print(a)\n",
    "\n",
    "#modulus assignment\n",
    "a%=b\n",
    "print(a)\n",
    "\n",
    "#exponent assignment\n",
    "a**=b\n",
    "print(a)"
   ]
  },
  {
   "cell_type": "code",
   "execution_count": 8,
   "id": "8cc73064-27c3-4f10-b633-2d5171c50b8d",
   "metadata": {},
   "outputs": [
    {
     "data": {
      "text/plain": [
       "True"
      ]
     },
     "execution_count": 8,
     "metadata": {},
     "output_type": "execute_result"
    }
   ],
   "source": [
    "#comparision operator\n",
    "#is equal to\n",
    "a=25\n",
    "b=25\n",
    "a==b"
   ]
  },
  {
   "cell_type": "code",
   "execution_count": 7,
   "id": "97412a70-9748-464e-a1be-8ef7acf2e860",
   "metadata": {},
   "outputs": [
    {
     "data": {
      "text/plain": [
       "True"
      ]
     },
     "execution_count": 7,
     "metadata": {},
     "output_type": "execute_result"
    }
   ],
   "source": [
    "#not equal to\n",
    "a=15\n",
    "b=30\n",
    "a!=b"
   ]
  },
  {
   "cell_type": "code",
   "execution_count": 1,
   "id": "93193c57-6a85-4547-9ea1-1443b62fe9e3",
   "metadata": {},
   "outputs": [
    {
     "data": {
      "text/plain": [
       "True"
      ]
     },
     "execution_count": 1,
     "metadata": {},
     "output_type": "execute_result"
    }
   ],
   "source": [
    "#greater than\n",
    "a=566\n",
    "b=183\n",
    "a>b"
   ]
  },
  {
   "cell_type": "code",
   "execution_count": 2,
   "id": "823c5050-2f84-4578-ab38-e4f65ba17f5e",
   "metadata": {},
   "outputs": [
    {
     "data": {
      "text/plain": [
       "True"
      ]
     },
     "execution_count": 2,
     "metadata": {},
     "output_type": "execute_result"
    }
   ],
   "source": [
    "#lessthan\n",
    "a=42\n",
    "c=152\n",
    "a<c"
   ]
  },
  {
   "cell_type": "code",
   "execution_count": 3,
   "id": "c64ac56b-cec5-4fa9-8d7d-e5b47564367c",
   "metadata": {},
   "outputs": [
    {
     "data": {
      "text/plain": [
       "True"
      ]
     },
     "execution_count": 3,
     "metadata": {},
     "output_type": "execute_result"
    }
   ],
   "source": [
    "#lessthan or equalto\n",
    "a=45\n",
    "b=45\n",
    "a<=b"
   ]
  },
  {
   "cell_type": "code",
   "execution_count": 4,
   "id": "c71e6416-44e8-4d1b-b25e-e51f173274af",
   "metadata": {},
   "outputs": [
    {
     "data": {
      "text/plain": [
       "True"
      ]
     },
     "execution_count": 4,
     "metadata": {},
     "output_type": "execute_result"
    }
   ],
   "source": [
    "#greaterthan or equalto\n",
    "a=333\n",
    "b=45\n",
    "a>=b"
   ]
  },
  {
   "cell_type": "code",
   "execution_count": null,
   "id": "7500f1bf-6f88-4bc7-9d88-e3c67e0246db",
   "metadata": {},
   "outputs": [],
   "source": [
    "#logical operators\n",
    "A=163\n",
    "B=256\n",
    "c=A is B\n",
    "d=A is not B\n",
    "\n",
    "#and\n",
    "e=c and d\n",
    "print(e)\n",
    "\n",
    "#or \n",
    "f= c or d\n",
    "print(f)\n",
    "\n",
    "#not\n",
    "print(not(c))\n",
    "print(not(d))\n"
   ]
  },
  {
   "cell_type": "code",
   "execution_count": 9,
   "id": "62446332-f7f9-4279-9b8d-564f5c3170da",
   "metadata": {},
   "outputs": [
    {
     "name": "stdout",
     "output_type": "stream",
     "text": [
      "True\n",
      "True\n"
     ]
    }
   ],
   "source": [
    "#identity operator\n",
    "#is\n",
    "rohit=\"human\"\n",
    "cricketer=\"human\"\n",
    "a=rohit is cricketer\n",
    "print(a)\n",
    "\n",
    "#is not\n",
    "rohit=\"human\"\n",
    "actor=\"hero\" \n",
    "b=rohit is not actor\n",
    "print(b)"
   ]
  },
  {
   "cell_type": "code",
   "execution_count": 12,
   "id": "22466f06-cb5a-42c5-be9e-609a0e32e344",
   "metadata": {},
   "outputs": [
    {
     "name": "stdout",
     "output_type": "stream",
     "text": [
      "True\n",
      "False\n"
     ]
    }
   ],
   "source": [
    "#membership operator\n",
    "srh=['travis head','abhishek sharma','klaasen','david warner']\n",
    "rcb=['virat kohli','chris gayle','shane watson','a b de villiers','kl rahul']\n",
    "\n",
    "#in\n",
    "print('travis head' in srh)\n",
    "\n",
    "#not in \n",
    "print('virat kohli' not in rcb)"
   ]
  },
  {
   "cell_type": "code",
   "execution_count": null,
   "id": "cc4f738e-3107-4783-81a5-b2544a49cd29",
   "metadata": {},
   "outputs": [],
   "source": []
  }
 ],
 "metadata": {
  "kernelspec": {
   "display_name": "Python 3 (ipykernel)",
   "language": "python",
   "name": "python3"
  },
  "language_info": {
   "codemirror_mode": {
    "name": "ipython",
    "version": 3
   },
   "file_extension": ".py",
   "mimetype": "text/x-python",
   "name": "python",
   "nbconvert_exporter": "python",
   "pygments_lexer": "ipython3",
   "version": "3.12.4"
  }
 },
 "nbformat": 4,
 "nbformat_minor": 5
}
