{
 "cells": [
  {
   "cell_type": "code",
   "execution_count": 3,
   "id": "4814bb1c-622e-4661-96b3-a93938beefc7",
   "metadata": {},
   "outputs": [
    {
     "name": "stdout",
     "output_type": "stream",
     "text": [
      "<class 'tuple'>\n",
      "('Orange', 'blue', 'white', 'black')\n"
     ]
    }
   ],
   "source": [
    "#creating a tuple\n",
    "empty_tuple=()\n",
    "\n",
    "colours=(\"Orange\",\"blue\",\"white\",\"black\")\n",
    "print(type(colours))\n",
    "print(colours)"
   ]
  },
  {
   "cell_type": "markdown",
   "id": "3c3051c8-2be8-4ce2-b946-8dd753098a43",
   "metadata": {},
   "source": [
    "Accessing of tuples"
   ]
  },
  {
   "cell_type": "code",
   "execution_count": 5,
   "id": "fb62e91f-bfc9-4e57-b965-a90de493b36e",
   "metadata": {},
   "outputs": [
    {
     "name": "stdout",
     "output_type": "stream",
     "text": [
      "white\n",
      "('blue', 'white')\n"
     ]
    }
   ],
   "source": [
    "colours=(\"Orange\",\"blue\",\"white\",\"black\")\n",
    "print(colours[2])\n",
    "print(colours[1:3])"
   ]
  },
  {
   "cell_type": "markdown",
   "id": "4d9088b1-9e5e-429a-939e-398a5a38f814",
   "metadata": {},
   "source": [
    "immutability"
   ]
  },
  {
   "cell_type": "code",
   "execution_count": 7,
   "id": "df49a607-3047-4be2-a677-abbab6a92335",
   "metadata": {},
   "outputs": [
    {
     "ename": "TypeError",
     "evalue": "'tuple' object does not support item assignment",
     "output_type": "error",
     "traceback": [
      "\u001b[1;31m---------------------------------------------------------------------------\u001b[0m",
      "\u001b[1;31mTypeError\u001b[0m                                 Traceback (most recent call last)",
      "Cell \u001b[1;32mIn[7], line 2\u001b[0m\n\u001b[0;32m      1\u001b[0m colours\u001b[38;5;241m=\u001b[39m(\u001b[38;5;124m\"\u001b[39m\u001b[38;5;124mOrange\u001b[39m\u001b[38;5;124m\"\u001b[39m,\u001b[38;5;124m\"\u001b[39m\u001b[38;5;124mblue\u001b[39m\u001b[38;5;124m\"\u001b[39m,\u001b[38;5;124m\"\u001b[39m\u001b[38;5;124mwhite\u001b[39m\u001b[38;5;124m\"\u001b[39m,\u001b[38;5;124m\"\u001b[39m\u001b[38;5;124mblack\u001b[39m\u001b[38;5;124m\"\u001b[39m)\n\u001b[1;32m----> 2\u001b[0m colours [\u001b[38;5;241m2\u001b[39m]\u001b[38;5;241m=\u001b[39m\u001b[38;5;124m\"\u001b[39m\u001b[38;5;124mGreen\u001b[39m\u001b[38;5;124m\"\u001b[39m\n\u001b[0;32m      3\u001b[0m \u001b[38;5;28mprint\u001b[39m(colours)\n",
      "\u001b[1;31mTypeError\u001b[0m: 'tuple' object does not support item assignment"
     ]
    }
   ],
   "source": [
    "colours=(\"Orange\",\"blue\",\"white\",\"black\")\n",
    "colours [2]=\"Green\"\n",
    "print(colours)"
   ]
  },
  {
   "cell_type": "markdown",
   "id": "8088e2e1-3ea6-4b50-8be5-d4fd6c806785",
   "metadata": {},
   "source": [
    "Tuple Operations"
   ]
  },
  {
   "cell_type": "code",
   "execution_count": 9,
   "id": "ebc2472c-ea5c-4764-8d7f-48e3e7c01e37",
   "metadata": {},
   "outputs": [
    {
     "name": "stdout",
     "output_type": "stream",
     "text": [
      "('Ram', 'Ravi', 'Rajesh', 'Orange', 'blue', 'white')\n",
      "('Ram', 'Ravi', 'Rajesh', 'Ram', 'Ravi', 'Rajesh', 'Ram', 'Ravi', 'Rajesh')\n"
     ]
    }
   ],
   "source": [
    "#concatenation\n",
    "name=(\"Ram\",\"Ravi\",\"Rajesh\")\n",
    "colour=(\"Orange\",\"blue\",\"white\")\n",
    "name_colour=name+colour\n",
    "print(name_colour)\n",
    "\n",
    "#repetation\n",
    "name=(\"Ram\",\"Ravi\",\"Rajesh\")\n",
    "names=name*3\n",
    "print(names)"
   ]
  },
  {
   "cell_type": "markdown",
   "id": "7748e053-d267-4024-8a7d-c792c73f284e",
   "metadata": {},
   "source": [
    "Tuple Methods"
   ]
  },
  {
   "cell_type": "code",
   "execution_count": 11,
   "id": "009c7e3d-061f-4c17-aa09-ab37bb55ca2c",
   "metadata": {},
   "outputs": [
    {
     "name": "stdout",
     "output_type": "stream",
     "text": [
      "1\n",
      "7\n"
     ]
    }
   ],
   "source": [
    "#count\n",
    "marks=(264,183,92,65,35,18,7,45,63,69,99,333,260,208,22,43,12,52,41)\n",
    "marks2=marks.count(45)\n",
    "print(marks2)\n",
    "\n",
    "#index\n",
    "marks=(264,183,92,65,35,18,7,45,63,69,99,333,260,208,22,43,12,52,41)\n",
    "index=marks.index(45)\n",
    "print(index)"
   ]
  },
  {
   "cell_type": "code",
   "execution_count": null,
   "id": "3b691c44-3166-4240-803a-a3b12323fa26",
   "metadata": {},
   "outputs": [],
   "source": []
  }
 ],
 "metadata": {
  "kernelspec": {
   "display_name": "Python 3 (ipykernel)",
   "language": "python",
   "name": "python3"
  },
  "language_info": {
   "codemirror_mode": {
    "name": "ipython",
    "version": 3
   },
   "file_extension": ".py",
   "mimetype": "text/x-python",
   "name": "python",
   "nbconvert_exporter": "python",
   "pygments_lexer": "ipython3",
   "version": "3.12.4"
  }
 },
 "nbformat": 4,
 "nbformat_minor": 5
}
