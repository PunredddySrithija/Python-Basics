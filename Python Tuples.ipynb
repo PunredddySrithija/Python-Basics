{
 "cells": [
  {
   "cell_type": "code",
   "execution_count": null,
   "id": "4814bb1c-622e-4661-96b3-a93938beefc7",
   "metadata": {},
   "outputs": [],
   "source": [
    "#creating a tuple\n",
    "empty_tuple=()\n",
    "\n",
    "colours=(\"Orange\",\"blue\",\"white\",\"black\")\n",
    "print(type(colours))\n",
    "print(colours)"
   ]
  },
  {
   "cell_type": "markdown",
   "id": "3c3051c8-2be8-4ce2-b946-8dd753098a43",
   "metadata": {},
   "source": [
    "Accessing of tuples"
   ]
  },
  {
   "cell_type": "code",
   "execution_count": null,
   "id": "fb62e91f-bfc9-4e57-b965-a90de493b36e",
   "metadata": {},
   "outputs": [],
   "source": [
    "colours=(\"Orange\",\"blue\",\"white\",\"black\")\n",
    "print(colours[2])\n",
    "print(colours[1:3])"
   ]
  },
  {
   "cell_type": "markdown",
   "id": "4d9088b1-9e5e-429a-939e-398a5a38f814",
   "metadata": {},
   "source": [
    "immutability"
   ]
  },
  {
   "cell_type": "code",
   "execution_count": null,
   "id": "df49a607-3047-4be2-a677-abbab6a92335",
   "metadata": {},
   "outputs": [],
   "source": [
    "colours=(\"Orange\",\"blue\",\"white\",\"black\")\n",
    "colours [2]=\"Green\"\n",
    "print(colours)"
   ]
  },
  {
   "cell_type": "markdown",
   "id": "8088e2e1-3ea6-4b50-8be5-d4fd6c806785",
   "metadata": {},
   "source": [
    "Tuple Operations"
   ]
  },
  {
   "cell_type": "code",
   "execution_count": null,
   "id": "ebc2472c-ea5c-4764-8d7f-48e3e7c01e37",
   "metadata": {},
   "outputs": [],
   "source": [
    "#concatenation\n",
    "name=(\"Ram\",\"Ravi\",\"Rajesh\")\n",
    "colour=(\"Orange\",\"blue\",\"white\")\n",
    "name_colour=name+colour\n",
    "print(name_colour)\n",
    "\n",
    "#repetation\n",
    "name=(\"Ram\",\"Ravi\",\"Rajesh\")\n",
    "names=name*3\n",
    "print(names)"
   ]
  },
  {
   "cell_type": "markdown",
   "id": "7748e053-d267-4024-8a7d-c792c73f284e",
   "metadata": {},
   "source": [
    "Tuple Methods"
   ]
  },
  {
   "cell_type": "code",
   "execution_count": null,
   "id": "009c7e3d-061f-4c17-aa09-ab37bb55ca2c",
   "metadata": {},
   "outputs": [],
   "source": [
    "#count\n",
    "marks=(264,183,92,65,35,18,7,45,63,69,99,333,260,208,22,43,12,52,41)\n",
    "marks2=marks.count(45)\n",
    "print(marks2)\n",
    "\n",
    "#index\n",
    "marks=(264,183,92,65,35,18,7,45,63,69,99,333,260,208,22,43,12,52,41)\n",
    "index=marks.index(45)\n",
    "print(index)"
   ]
  }
 ],
 "metadata": {
  "kernelspec": {
   "display_name": "Python 3 (ipykernel)",
   "language": "python",
   "name": "python3"
  },
  "language_info": {
   "codemirror_mode": {
    "name": "ipython",
    "version": 3
   },
   "file_extension": ".py",
   "mimetype": "text/x-python",
   "name": "python",
   "nbconvert_exporter": "python",
   "pygments_lexer": "ipython3",
   "version": "3.12.4"
  }
 },
 "nbformat": 4,
 "nbformat_minor": 5
}
