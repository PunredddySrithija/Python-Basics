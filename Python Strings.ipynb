{
 "cells": [
  {
   "cell_type": "code",
   "execution_count": 1,
   "id": "5bc773c7-dd64-4f30-a65b-054be232e725",
   "metadata": {},
   "outputs": [
    {
     "name": "stdout",
     "output_type": "stream",
     "text": [
      "<class 'str'>\n",
      "<class 'str'>\n",
      "<class 'str'>\n",
      "Nuclear\n",
      "Nuclear\n",
      "Nuclear\n"
     ]
    }
   ],
   "source": [
    "#creation of a string\n",
    "str1='Nuclear'\n",
    "str2=\"Nuclear\"\n",
    "str3=\"\"\"Nuclear\"\"\"\n",
    "print(type(str1))\n",
    "print(type(str2))\n",
    "print(type(str3))\n",
    "\n",
    "print(str1)\n",
    "print(str2)\n",
    "print(str3)"
   ]
  },
  {
   "cell_type": "markdown",
   "id": "886ab8fc-de1d-49eb-8431-61be31da4e36",
   "metadata": {},
   "source": [
    "String Operations"
   ]
  },
  {
   "cell_type": "code",
   "execution_count": 3,
   "id": "5dab9e2c-d34b-406b-94cf-eed06dc36be6",
   "metadata": {},
   "outputs": [
    {
     "name": "stdout",
     "output_type": "stream",
     "text": [
      "virat kohli\n",
      "krishnakrishnakrishnakrishnakrishnakrishnakrishnakrishnakrishnakrishnakrishna\n",
      "r\n",
      "t\n",
      "a loves rid\n"
     ]
    }
   ],
   "source": [
    "#concatenation\n",
    "name1=\"virat\"\n",
    "name2=\"kohli\"\n",
    "name3=name1+\" \"+name2\n",
    "print(name3)\n",
    "\n",
    "#repetation\n",
    "name1=\"krishna\"\n",
    "name2=name1*11\n",
    "print(name2)\n",
    "\n",
    "#index\n",
    "sentence=\"Prabhas is an actor\"\n",
    "print(sentence[1])\n",
    "print(sentence[-3])\n",
    "\n",
    "#slicing\n",
    "sentence=\"Surya loves riding cars\"\n",
    "name=sentence[4:15]\n",
    "print(name)"
   ]
  },
  {
   "cell_type": "markdown",
   "id": "3472fb3c-32e3-4c0e-9fcf-78114dc46900",
   "metadata": {},
   "source": [
    "Python-Format-Strings"
   ]
  },
  {
   "cell_type": "code",
   "execution_count": 5,
   "id": "1db8d2fd-d58b-4388-a0cb-96565e5c9f45",
   "metadata": {},
   "outputs": [
    {
     "name": "stdout",
     "output_type": "stream",
     "text": [
      "My self sujith. I studied BBA.\n",
      "My self {sujith}. I studied {BBA}.\n"
     ]
    }
   ],
   "source": [
    "#old style formatting\n",
    "name=\"sujith\"\n",
    "qualification=\"BBA\"\n",
    "formatted_string=\"My self %s. I studied %s.\"%(name,qualification)\n",
    "print(formatted_string)\n",
    "\n",
    "#string interpolation\n",
    "name=\"sujith\"\n",
    "qualification=\"BBA\"\n",
    "formatted_string=\"My self {%s}. I studied {%s}.\"%(name, qualification)\n",
    "print(formatted_string)"
   ]
  },
  {
   "cell_type": "markdown",
   "id": "92c9c30e-3f91-45ba-b9c8-80ada4838a29",
   "metadata": {},
   "source": [
    "String Methods"
   ]
  },
  {
   "cell_type": "code",
   "execution_count": 7,
   "id": "536b982f-c5ed-4e02-ba8f-b0104445e51f",
   "metadata": {},
   "outputs": [
    {
     "name": "stdout",
     "output_type": "stream",
     "text": [
      "11\n",
      "PRIYA\n",
      "   priya    \n",
      "priya, ramya\n",
      "['priya', 'has', 'phone', 'in', 'her', 'hands']\n",
      "priya has phone in her hands\n"
     ]
    }
   ],
   "source": [
    "#length\n",
    "name=\"priya ramya\"\n",
    "length=len(name)\n",
    "print(length)\n",
    "\n",
    "#lower/upper\n",
    "name=\"priya\"\n",
    "print(name.upper())\n",
    "\n",
    "#strip\n",
    "name=\"   priya    \"\n",
    "stripped_string=name.strip()\n",
    "print(name)\n",
    "\n",
    "#replace\n",
    "name=\"priya, anusha\"\n",
    "new_name=name.replace(\"anusha\",\"ramya\")\n",
    "print(new_name)\n",
    "\n",
    "#split\n",
    "name=\"priya has phone in her hands\"\n",
    "words=name.split()\n",
    "print(words)\n",
    "\n",
    "#join\n",
    "name=['priya', 'has', 'phone', 'in', 'her', 'hands']\n",
    "words=' '.join(name)\n",
    "print(words)"
   ]
  },
  {
   "cell_type": "code",
   "execution_count": null,
   "id": "956da437-a407-4cb2-b498-c9c52bdedb49",
   "metadata": {},
   "outputs": [],
   "source": []
  }
 ],
 "metadata": {
  "kernelspec": {
   "display_name": "Python 3 (ipykernel)",
   "language": "python",
   "name": "python3"
  },
  "language_info": {
   "codemirror_mode": {
    "name": "ipython",
    "version": 3
   },
   "file_extension": ".py",
   "mimetype": "text/x-python",
   "name": "python",
   "nbconvert_exporter": "python",
   "pygments_lexer": "ipython3",
   "version": "3.12.4"
  }
 },
 "nbformat": 4,
 "nbformat_minor": 5
}
