{
 "cells": [
  {
   "cell_type": "code",
   "execution_count": 1,
   "id": "b7a78c37-c812-4a3e-93db-7cbda1297cf4",
   "metadata": {},
   "outputs": [
    {
     "name": "stdout",
     "output_type": "stream",
     "text": [
      "kumari\n",
      "21\n",
      "{'name': 'kumari', 'age': 21, 'gender': 'female', 'country': 'India'}\n"
     ]
    }
   ],
   "source": [
    "#Creating an empty dictionary\n",
    "dict={}\n",
    "\n",
    "#creating a dictionary\n",
    "dict_1={\"name\":\"kumari\",'age':21,'gender':'female'}\n",
    "\n",
    "#accesing elements in dictionary\n",
    "print(dict_1[\"name\"])\n",
    "print(dict_1['age'])\n",
    "\n",
    "#adding values to dictionary\n",
    "dict_1['country']=\"India\"\n",
    "print(dict_1)"
   ]
  },
  {
   "cell_type": "code",
   "execution_count": 3,
   "id": "1a64e969-9c86-40c0-af7f-de7d3a271dd4",
   "metadata": {},
   "outputs": [],
   "source": [
    "#dictionary methods\n",
    "#1.get\n",
    "marks={'name':'Raghava','class':10,'marks':20}\n",
    "a=marks.get('name')\n"
   ]
  },
  {
   "cell_type": "code",
   "execution_count": 5,
   "id": "b5ee5cb4-a98d-4cd9-bd6c-6d59455505ad",
   "metadata": {},
   "outputs": [
    {
     "name": "stdout",
     "output_type": "stream",
     "text": [
      "dict_keys(['name', 'class', 'marks'])\n"
     ]
    }
   ],
   "source": [
    "#2.key\n",
    "marks={'name':'Raghava','class':10,'marks':20}\n",
    "print(marks.keys())"
   ]
  },
  {
   "cell_type": "code",
   "execution_count": 7,
   "id": "3034ca79-9c4f-434b-91bf-724c4ea7c762",
   "metadata": {},
   "outputs": [
    {
     "name": "stdout",
     "output_type": "stream",
     "text": [
      "dict_values(['Raghava', 10, 20])\n"
     ]
    }
   ],
   "source": [
    "#3.values\n",
    "marks={'name':'Raghava','class':10,'marks':20}\n",
    "print(marks.values())"
   ]
  },
  {
   "cell_type": "code",
   "execution_count": 9,
   "id": "de498733-ccd9-429c-b582-b7696f59fc16",
   "metadata": {},
   "outputs": [
    {
     "name": "stdout",
     "output_type": "stream",
     "text": [
      "dict_items([('name', 'Raghava'), ('class', 10), ('marks', 20)])\n"
     ]
    }
   ],
   "source": [
    "#4.items\n",
    "marks={'name':'Raghava','class':10,'marks':20}\n",
    "print(marks.items())"
   ]
  },
  {
   "cell_type": "code",
   "execution_count": 13,
   "id": "b15e6415-66e8-47fe-a769-a5ca553ec863",
   "metadata": {},
   "outputs": [
    {
     "name": "stdout",
     "output_type": "stream",
     "text": [
      "10\n"
     ]
    },
    {
     "ename": "TypeError",
     "evalue": "pop expected at least 1 argument, got 0",
     "output_type": "error",
     "traceback": [
      "\u001b[1;31m---------------------------------------------------------------------------\u001b[0m",
      "\u001b[1;31mTypeError\u001b[0m                                 Traceback (most recent call last)",
      "Cell \u001b[1;32mIn[13], line 6\u001b[0m\n\u001b[0;32m      3\u001b[0m \u001b[38;5;28mprint\u001b[39m(school\u001b[38;5;241m.\u001b[39mpop(\u001b[38;5;124m'\u001b[39m\u001b[38;5;124mfloors\u001b[39m\u001b[38;5;124m'\u001b[39m))\n\u001b[0;32m      5\u001b[0m \u001b[38;5;66;03m#gives error when we do not pass any argument in pop()\u001b[39;00m\n\u001b[1;32m----> 6\u001b[0m \u001b[38;5;28mprint\u001b[39m(school\u001b[38;5;241m.\u001b[39mpop())\n",
      "\u001b[1;31mTypeError\u001b[0m: pop expected at least 1 argument, got 0"
     ]
    }
   ],
   "source": [
    "#5.pop()\n",
    "school={'name':'raghava high school','area':'earth','floors':10}\n",
    "print(school.pop('floors'))\n",
    "\n",
    "#gives error when we do not pass any argument in pop()\n",
    "print(school.pop())"
   ]
  },
  {
   "cell_type": "code",
   "execution_count": 15,
   "id": "7d3e557b-9223-498b-b31f-cfb8acfeb65b",
   "metadata": {},
   "outputs": [
    {
     "name": "stdout",
     "output_type": "stream",
     "text": [
      "('floors', 10)\n"
     ]
    }
   ],
   "source": [
    "#6.popitem\n",
    "#removes the last item in a dictionary\n",
    "school={'name':'raghava high school','area':'earth','floors':10}\n",
    "print(school.popitem())"
   ]
  },
  {
   "cell_type": "code",
   "execution_count": 22,
   "id": "e735b740-6383-4557-a507-96f6f3cc9cc5",
   "metadata": {},
   "outputs": [
    {
     "data": {
      "text/plain": [
       "{'name': 'raghava high school',\n",
       " 'area': 'earth',\n",
       " 'floors': 10,\n",
       " 'no.of stuents': 56,\n",
       " 'subject': 'mathematics'}"
      ]
     },
     "execution_count": 22,
     "metadata": {},
     "output_type": "execute_result"
    }
   ],
   "source": [
    "#7.update\n",
    "school={'name':'raghava high school','area':'earth','floors':10}\n",
    "students={'no.of stuents':56,'subject':'mathematics'}\n",
    "school.update(students)\n",
    "school"
   ]
  },
  {
   "cell_type": "code",
   "execution_count": 24,
   "id": "110eae1a-bf2c-4e23-ad5d-00d95beed261",
   "metadata": {},
   "outputs": [
    {
     "name": "stdout",
     "output_type": "stream",
     "text": [
      "3\n"
     ]
    }
   ],
   "source": [
    "#8.len\n",
    "school={'name':'raghava high school','area':'earth','floors':10}\n",
    "print(len(school))"
   ]
  },
  {
   "cell_type": "code",
   "execution_count": 26,
   "id": "a72daa6c-3c29-445c-bfd0-92182a50f899",
   "metadata": {},
   "outputs": [
    {
     "name": "stdout",
     "output_type": "stream",
     "text": [
      "None\n"
     ]
    }
   ],
   "source": [
    "#9.clear\n",
    "school={'name':'raghava high school','area':'earth','floors':10}\n",
    "print(school.clear())"
   ]
  },
  {
   "cell_type": "code",
   "execution_count": 28,
   "id": "afb236de-9419-4fe7-ab68-80cbb6d636d7",
   "metadata": {},
   "outputs": [
    {
     "data": {
      "text/plain": [
       "{'name': 'raghava high school', 'area': 'earth', 'floors': 10}"
      ]
     },
     "execution_count": 28,
     "metadata": {},
     "output_type": "execute_result"
    }
   ],
   "source": [
    "#10.copy\n",
    "school={'name':'raghava high school','area':'earth','floors':10}\n",
    "new_data=school.copy()\n",
    "new_data"
   ]
  },
  {
   "cell_type": "code",
   "execution_count": 30,
   "id": "82802984-45bc-45d3-9394-2d119a86c7b8",
   "metadata": {},
   "outputs": [
    {
     "name": "stdout",
     "output_type": "stream",
     "text": [
      "{'name': 'raghava high school', 'area': 'earth', 'floors': 10, 'reason': 'Not found'}\n",
      "Not found\n"
     ]
    }
   ],
   "source": [
    "#11.setdefault\n",
    "school={'name':'raghava high school','area':'earth','floors':10}\n",
    "x=school.setdefault(\"reason\",\"Not found\")\n",
    "print(school)\n",
    "print(x)"
   ]
  },
  {
   "cell_type": "code",
   "execution_count": 32,
   "id": "1eb014ce-e5d3-489a-937f-14c9a6d646ed",
   "metadata": {},
   "outputs": [
    {
     "data": {
      "text/plain": [
       "{'english': 0, 'physics': 0, 'mathematicss': 0}"
      ]
     },
     "execution_count": 32,
     "metadata": {},
     "output_type": "execute_result"
    }
   ],
   "source": [
    "#fromkeys\n",
    "marks={\"mathematicss\",'physics','english'}\n",
    "raghava_marks=dict.fromkeys(marks,0)\n",
    "raghava_marks"
   ]
  }
 ],
 "metadata": {
  "kernelspec": {
   "display_name": "Python 3 (ipykernel)",
   "language": "python",
   "name": "python3"
  },
  "language_info": {
   "codemirror_mode": {
    "name": "ipython",
    "version": 3
   },
   "file_extension": ".py",
   "mimetype": "text/x-python",
   "name": "python",
   "nbconvert_exporter": "python",
   "pygments_lexer": "ipython3",
   "version": "3.12.4"
  }
 },
 "nbformat": 4,
 "nbformat_minor": 5
}
